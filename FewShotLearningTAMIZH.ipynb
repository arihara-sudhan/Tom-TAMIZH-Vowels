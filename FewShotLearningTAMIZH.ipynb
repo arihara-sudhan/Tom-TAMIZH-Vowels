{
 "cells": [
  {
   "cell_type": "markdown",
   "id": "9e1a0c8f",
   "metadata": {},
   "source": [
    "# IMPORT REQUIRED LIBRARIES"
   ]
  },
  {
   "cell_type": "code",
   "execution_count": 2,
   "id": "41f25cc1",
   "metadata": {},
   "outputs": [],
   "source": [
    "import torch\n",
    "from torch.utils.data import Dataset,DataLoader\n",
    "import torch.nn as nn\n",
    "from torch.optim import Adam,lr_scheduler\n",
    "import torch.nn.functional as F\n",
    "from torchvision.datasets import ImageFolder\n",
    "from torchvision import transforms\n",
    "from PIL import Image\n",
    "import os\n",
    "import random\n",
    "import time"
   ]
  },
  {
   "cell_type": "markdown",
   "id": "16825b47",
   "metadata": {},
   "source": [
    "# CUSTOMIZE THE DATASET INTO TRIPLETS"
   ]
  },
  {
   "cell_type": "code",
   "execution_count": 3,
   "id": "88febc20",
   "metadata": {},
   "outputs": [],
   "source": [
    "class Triplet:\n",
    "    def __init__(self, train_folder):\n",
    "        self.train_folder = train_folder\n",
    "        self.labels = os.listdir(train_folder)\n",
    "        self.label_to_path = {label: os.path.join(train_folder, label) for label in self.labels}\n",
    "    \n",
    "    def get_triplet(self):\n",
    "        anchor_label = random.choice(self.labels)\n",
    "        anchor_path = random.choice(os.listdir(self.label_to_path[anchor_label]))\n",
    "        positive_label = anchor_label\n",
    "        positive_path = random.choice(os.listdir(self.label_to_path[positive_label]))\n",
    "        negative_label = random.choice([label for label in self.labels if label != anchor_label])\n",
    "        negative_path = random.choice(os.listdir(self.label_to_path[negative_label]))\n",
    "        \n",
    "        anchor_image = os.path.join(self.label_to_path[anchor_label], anchor_path)\n",
    "        positive_image = os.path.join(self.label_to_path[positive_label], positive_path)\n",
    "        negative_image = os.path.join(self.label_to_path[negative_label], negative_path)\n",
    "        \n",
    "        return anchor_image, positive_image, negative_image"
   ]
  },
  {
   "cell_type": "code",
   "execution_count": 9,
   "id": "f1b0fe44",
   "metadata": {},
   "outputs": [],
   "source": [
    "class TripletDataset(Dataset):\n",
    "    def __init__(self, train_folder, transform=None):\n",
    "        self.triplet_generator = Triplet(train_folder)\n",
    "        self.transform = transform\n",
    "\n",
    "    def __len__(self):\n",
    "        return 5*12 # While Testing! Make it 50*12 for Training\n",
    "\n",
    "    def __getitem__(self, index):\n",
    "        anchor_image, positive_image, negative_image = self.triplet_generator.get_triplet()\n",
    "        anchor = self._load_image(anchor_image)\n",
    "        positive = self._load_image(positive_image)\n",
    "        negative = self._load_image(negative_image)\n",
    "        return anchor, positive, negative\n",
    "\n",
    "    def _load_image(self, image_path):\n",
    "        image = Image.open(image_path).convert(\"RGB\")\n",
    "        if self.transform is not None:\n",
    "            image = self.transform(image)\n",
    "        return image\n",
    "\n",
    "    def get_triplet_names(self, index):\n",
    "        anchor_image, positive_image, negative_image = self.triplet_generator.get_triplet()\n",
    "        return anchor_image, positive_image, negative_image"
   ]
  },
  {
   "cell_type": "code",
   "execution_count": null,
   "id": "2a4bbef6",
   "metadata": {},
   "outputs": [],
   "source": []
  },
  {
   "cell_type": "markdown",
   "id": "6425f8ea",
   "metadata": {},
   "source": [
    "# DATALOADER"
   ]
  },
  {
   "cell_type": "code",
   "execution_count": 10,
   "id": "ea142528",
   "metadata": {},
   "outputs": [],
   "source": [
    "transform = transforms.Compose([\n",
    "    transforms.Grayscale(),  # Convert image to grayscale\n",
    "    transforms.ToTensor(),\n",
    "])"
   ]
  },
  {
   "cell_type": "code",
   "execution_count": 11,
   "id": "b91b0da0",
   "metadata": {},
   "outputs": [],
   "source": [
    "bs = 32\n",
    "train_folder = \"./Datasets/TAMIZH LETTERS/train\"\n",
    "dataset = TripletDataset(train_folder, transform=transform)\n",
    "trainloader = DataLoader(dataset, batch_size=bs, shuffle=True)"
   ]
  },
  {
   "cell_type": "code",
   "execution_count": 12,
   "id": "d0645c97",
   "metadata": {},
   "outputs": [
    {
     "data": {
      "text/plain": [
       "2"
      ]
     },
     "execution_count": 12,
     "metadata": {},
     "output_type": "execute_result"
    }
   ],
   "source": [
    "len(trainloader)"
   ]
  },
  {
   "cell_type": "markdown",
   "id": "c53265e2",
   "metadata": {},
   "source": [
    "# SIMILARITY CHECKING WITH A MODEL"
   ]
  },
  {
   "cell_type": "code",
   "execution_count": 13,
   "id": "bdfdfada",
   "metadata": {},
   "outputs": [],
   "source": [
    "import torch.nn as nn\n",
    "\n",
    "class EmbeddingNet(nn.Module):\n",
    "    def __init__(self):\n",
    "        super(EmbeddingNet, self).__init__()\n",
    "        self.convnet = nn.Sequential(\n",
    "            nn.Conv2d(1, 32, 5),\n",
    "            nn.PReLU(),\n",
    "            nn.MaxPool2d(2, stride=2),\n",
    "            nn.Conv2d(32, 64, 5),\n",
    "            nn.PReLU(),\n",
    "            nn.MaxPool2d(2, stride=2)\n",
    "        )\n",
    "\n",
    "        self.fc = nn.Sequential(\n",
    "            nn.Linear(64 * 53 * 53, 256),\n",
    "            nn.PReLU(),\n",
    "            nn.Linear(256, 256),\n",
    "            nn.PReLU(),\n",
    "            nn.Linear(256, 2)\n",
    "        )\n",
    "\n",
    "    def forward(self, x):\n",
    "        output = self.convnet(x)\n",
    "        output = output.view(output.size()[0], -1)\n",
    "        output = self.fc(output)\n",
    "        return output\n",
    "\n",
    "    def get_embedding(self, x):\n",
    "        return self.forward(x)\n"
   ]
  },
  {
   "cell_type": "code",
   "execution_count": 14,
   "id": "ccfa87db",
   "metadata": {},
   "outputs": [],
   "source": [
    "emb = EmbeddingNet()"
   ]
  },
  {
   "cell_type": "markdown",
   "id": "9db15154",
   "metadata": {},
   "source": [
    "# TRIPLET WRAPPER"
   ]
  },
  {
   "cell_type": "code",
   "execution_count": 15,
   "id": "6180752b",
   "metadata": {},
   "outputs": [],
   "source": [
    "class TripletNet(nn.Module):\n",
    "    def __init__(self, embedding_net):\n",
    "        super(TripletNet, self).__init__()\n",
    "        self.embedding_net = embedding_net\n",
    "\n",
    "    def forward(self, x1, x2=None, x3=None):\n",
    "        if x2 is None and x3 is None:\n",
    "            return self.embedding_net(x1)\n",
    "        return self.embedding_net(x1),self.embedding_net(x2),self.embedding_net(x3)\n",
    "\n",
    "    def get_embedding(self, x):\n",
    "        return self.embedding_net(x)"
   ]
  },
  {
   "cell_type": "markdown",
   "id": "b897b20e",
   "metadata": {},
   "source": [
    "# TRIPLET LOSS"
   ]
  },
  {
   "cell_type": "code",
   "execution_count": 16,
   "id": "b3133e84",
   "metadata": {},
   "outputs": [],
   "source": [
    "class TripletLoss(nn.Module):\n",
    "    def __init__(self, margin):\n",
    "        super(TripletLoss, self).__init__()\n",
    "        self.margin = margin\n",
    "    def forward(self, anchor, positive, negative, size_average=True):\n",
    "        distance_positive = (anchor - positive).pow(2).sum(1)  # .pow(.5)\n",
    "        distance_negative = (anchor - negative).pow(2).sum(1)  # .pow(.5)\n",
    "        losses = F.relu(distance_positive - distance_negative + self.margin)\n",
    "        return losses.mean() if size_average else losses.sum()\n"
   ]
  },
  {
   "cell_type": "code",
   "execution_count": 17,
   "id": "e733c549",
   "metadata": {},
   "outputs": [],
   "source": [
    "device = torch.device(\"cuda\" if torch.cuda.is_available() else \"cpu\")\n",
    "model = TripletNet(emb)\n",
    "margin = 1\n",
    "lr = 0.0001\n",
    "n_epochs = 5\n",
    "optimizer = Adam(model.parameters(), lr=lr)\n",
    "loss_fn = TripletLoss(margin)"
   ]
  },
  {
   "cell_type": "markdown",
   "id": "ec37e76b",
   "metadata": {},
   "source": [
    "# TRAIN"
   ]
  },
  {
   "cell_type": "code",
   "execution_count": 18,
   "id": "87023e72",
   "metadata": {},
   "outputs": [],
   "source": [
    "def fit(model, num_epochs, train_loader,bs):\n",
    "    for epoch in range(n_epochs):\n",
    "        start = time.time()\n",
    "        model.train()\n",
    "        train_loss = 0.0\n",
    "        for idx, batch in enumerate(train_loader):\n",
    "            anchor, positive, negative = batch\n",
    "            anchor = anchor.to(device)\n",
    "            positive = positive.to(device)\n",
    "            negative = negative.to(device)\n",
    "            optimizer.zero_grad()\n",
    "            anchor_embedding, positive_embedding, negative_embedding = model(anchor, positive, negative)\n",
    "            anchor_embedding.requires_grad_(True)\n",
    "            positive_embedding.requires_grad_(True)\n",
    "            negative_embedding.requires_grad_(True)\n",
    "            loss = loss_fn(anchor_embedding, positive_embedding, negative_embedding)\n",
    "            loss.backward()\n",
    "            optimizer.step()\n",
    "            train_loss += loss.item()\n",
    "            print(f\"({idx + 1}).  LOSS : {loss.item()}  SEEN : {bs * (idx + 1)}/{len(train_loader.dataset)}\")\n",
    "\n",
    "        print(f\"Epoch {epoch + 1}/{n_epochs}, Train Loss: {train_loss / len(train_loader):.4f}, TIME: {time.time()-start}\")"
   ]
  },
  {
   "cell_type": "code",
   "execution_count": 63,
   "id": "d86a8153",
   "metadata": {
    "scrolled": true
   },
   "outputs": [
    {
     "name": "stdout",
     "output_type": "stream",
     "text": [
      "(1).  LOSS : 0.5223436951637268  SEEN : 32/600\n",
      "(2).  LOSS : 0.27001625299453735  SEEN : 64/600\n",
      "(3).  LOSS : 0.34986427426338196  SEEN : 96/600\n",
      "(4).  LOSS : 0.19522054493427277  SEEN : 128/600\n",
      "(5).  LOSS : 0.14254765212535858  SEEN : 160/600\n",
      "(6).  LOSS : 0.41570398211479187  SEEN : 192/600\n",
      "(7).  LOSS : 0.4501030445098877  SEEN : 224/600\n",
      "(8).  LOSS : 0.40436965227127075  SEEN : 256/600\n",
      "(9).  LOSS : 0.3919444680213928  SEEN : 288/600\n",
      "(10).  LOSS : 0.3272921144962311  SEEN : 320/600\n",
      "(11).  LOSS : 0.34925317764282227  SEEN : 352/600\n",
      "(12).  LOSS : 0.27141156792640686  SEEN : 384/600\n",
      "(13).  LOSS : 0.3114508092403412  SEEN : 416/600\n",
      "(14).  LOSS : 0.24317187070846558  SEEN : 448/600\n",
      "(15).  LOSS : 0.22839786112308502  SEEN : 480/600\n",
      "(16).  LOSS : 0.376720666885376  SEEN : 512/600\n",
      "(17).  LOSS : 0.16782569885253906  SEEN : 544/600\n",
      "(18).  LOSS : 0.25150901079177856  SEEN : 576/600\n",
      "(19).  LOSS : 0.24364502727985382  SEEN : 608/600\n",
      "Epoch 1/5, Train Loss: 0.3112, TIME: 70.12755632400513\n",
      "(1).  LOSS : 0.2934573292732239  SEEN : 32/600\n",
      "(2).  LOSS : 0.2329156994819641  SEEN : 64/600\n",
      "(3).  LOSS : 0.28672683238983154  SEEN : 96/600\n",
      "(4).  LOSS : 0.1965329796075821  SEEN : 128/600\n",
      "(5).  LOSS : 0.1421431303024292  SEEN : 160/600\n",
      "(6).  LOSS : 0.2758624255657196  SEEN : 192/600\n",
      "(7).  LOSS : 0.24007777869701385  SEEN : 224/600\n",
      "(8).  LOSS : 0.24651193618774414  SEEN : 256/600\n",
      "(9).  LOSS : 0.17322853207588196  SEEN : 288/600\n",
      "(10).  LOSS : 0.3172573149204254  SEEN : 320/600\n",
      "(11).  LOSS : 0.20720848441123962  SEEN : 352/600\n",
      "(12).  LOSS : 0.13592351973056793  SEEN : 384/600\n",
      "(13).  LOSS : 0.23006655275821686  SEEN : 416/600\n",
      "(14).  LOSS : 0.11286747455596924  SEEN : 448/600\n",
      "(15).  LOSS : 0.16231711208820343  SEEN : 480/600\n",
      "(16).  LOSS : 0.3028565049171448  SEEN : 512/600\n",
      "(17).  LOSS : 0.32606345415115356  SEEN : 544/600\n",
      "(18).  LOSS : 0.5253262519836426  SEEN : 576/600\n",
      "(19).  LOSS : 0.25002023577690125  SEEN : 608/600\n",
      "Epoch 2/5, Train Loss: 0.2451, TIME: 71.30371618270874\n",
      "(1).  LOSS : 0.37002021074295044  SEEN : 32/600\n",
      "(2).  LOSS : 0.2593007981777191  SEEN : 64/600\n",
      "(3).  LOSS : 0.2103300243616104  SEEN : 96/600\n",
      "(4).  LOSS : 0.1372814029455185  SEEN : 128/600\n",
      "(5).  LOSS : 0.3623337149620056  SEEN : 160/600\n",
      "(6).  LOSS : 0.32347163558006287  SEEN : 192/600\n",
      "(7).  LOSS : 0.26383084058761597  SEEN : 224/600\n",
      "(8).  LOSS : 0.25625312328338623  SEEN : 256/600\n",
      "(9).  LOSS : 0.3907119631767273  SEEN : 288/600\n",
      "(10).  LOSS : 0.386330246925354  SEEN : 320/600\n",
      "(11).  LOSS : 0.1274428367614746  SEEN : 352/600\n",
      "(12).  LOSS : 0.3578740656375885  SEEN : 384/600\n",
      "(13).  LOSS : 0.2066481113433838  SEEN : 416/600\n",
      "(14).  LOSS : 0.34981971979141235  SEEN : 448/600\n",
      "(15).  LOSS : 0.058884553611278534  SEEN : 480/600\n",
      "(16).  LOSS : 0.15380023419857025  SEEN : 512/600\n",
      "(17).  LOSS : 0.20907601714134216  SEEN : 544/600\n",
      "(18).  LOSS : 0.07292873412370682  SEEN : 576/600\n",
      "(19).  LOSS : 0.25237682461738586  SEEN : 608/600\n",
      "Epoch 3/5, Train Loss: 0.2499, TIME: 70.5659453868866\n",
      "(1).  LOSS : 0.13623711466789246  SEEN : 32/600\n",
      "(2).  LOSS : 0.26237961649894714  SEEN : 64/600\n",
      "(3).  LOSS : 0.6578439474105835  SEEN : 96/600\n",
      "(4).  LOSS : 0.12028384953737259  SEEN : 128/600\n",
      "(5).  LOSS : 0.3185043931007385  SEEN : 160/600\n",
      "(6).  LOSS : 0.29301732778549194  SEEN : 192/600\n",
      "(7).  LOSS : 0.11510244011878967  SEEN : 224/600\n",
      "(8).  LOSS : 0.17365725338459015  SEEN : 256/600\n",
      "(9).  LOSS : 0.140024796128273  SEEN : 288/600\n",
      "(10).  LOSS : 0.21864496171474457  SEEN : 320/600\n",
      "(11).  LOSS : 0.13143518567085266  SEEN : 352/600\n",
      "(12).  LOSS : 0.27226075530052185  SEEN : 384/600\n",
      "(13).  LOSS : 0.14712408185005188  SEEN : 416/600\n",
      "(14).  LOSS : 0.29222017526626587  SEEN : 448/600\n",
      "(15).  LOSS : 0.17671823501586914  SEEN : 480/600\n",
      "(16).  LOSS : 0.17599818110466003  SEEN : 512/600\n",
      "(17).  LOSS : 0.15634828805923462  SEEN : 544/600\n",
      "(18).  LOSS : 0.17263033986091614  SEEN : 576/600\n",
      "(19).  LOSS : 0.17710824310779572  SEEN : 608/600\n",
      "Epoch 4/5, Train Loss: 0.2178, TIME: 70.34548330307007\n",
      "(1).  LOSS : 0.14920544624328613  SEEN : 32/600\n",
      "(2).  LOSS : 0.19537954032421112  SEEN : 64/600\n",
      "(3).  LOSS : 0.26685720682144165  SEEN : 96/600\n",
      "(4).  LOSS : 0.19411508738994598  SEEN : 128/600\n",
      "(5).  LOSS : 0.2248605191707611  SEEN : 160/600\n",
      "(6).  LOSS : 0.11916565150022507  SEEN : 192/600\n",
      "(7).  LOSS : 0.1696855127811432  SEEN : 224/600\n",
      "(8).  LOSS : 0.04653266817331314  SEEN : 256/600\n",
      "(9).  LOSS : 0.11385747045278549  SEEN : 288/600\n",
      "(10).  LOSS : 0.23770776391029358  SEEN : 320/600\n",
      "(11).  LOSS : 0.1833573579788208  SEEN : 352/600\n",
      "(12).  LOSS : 0.29479265213012695  SEEN : 384/600\n",
      "(13).  LOSS : 0.14854072034358978  SEEN : 416/600\n",
      "(14).  LOSS : 0.31517189741134644  SEEN : 448/600\n",
      "(15).  LOSS : 0.08867284655570984  SEEN : 480/600\n",
      "(16).  LOSS : 0.13575533032417297  SEEN : 512/600\n",
      "(17).  LOSS : 0.340853214263916  SEEN : 544/600\n",
      "(18).  LOSS : 0.15653181076049805  SEEN : 576/600\n",
      "(19).  LOSS : 0.08699177950620651  SEEN : 608/600\n",
      "Epoch 5/5, Train Loss: 0.1825, TIME: 70.96875095367432\n"
     ]
    }
   ],
   "source": [
    "fit(model,n_epochs,trainloader,bs)"
   ]
  },
  {
   "cell_type": "code",
   "execution_count": null,
   "id": "5b17a48c",
   "metadata": {},
   "outputs": [],
   "source": []
  },
  {
   "cell_type": "markdown",
   "id": "57dd339c",
   "metadata": {},
   "source": [
    "# EVALUATE"
   ]
  },
  {
   "cell_type": "code",
   "execution_count": 19,
   "id": "23b0912c",
   "metadata": {},
   "outputs": [],
   "source": [
    "def evaluate_model(model, triplet_test_loader):\n",
    "    model.eval()\n",
    "    correct = 0\n",
    "    total = 0\n",
    "    start = time.time()\n",
    "    with torch.no_grad():\n",
    "        for (anchor, positive, negative) in triplet_test_loader:\n",
    "            anchor_embedding, positive_embedding, negative_embedding = model(anchor, positive, negative)\n",
    "            distance_positive = torch.norm(anchor_embedding - positive_embedding, dim=1)\n",
    "            distance_negative = torch.norm(anchor_embedding - negative_embedding, dim=1)\n",
    "            correct += torch.sum(distance_positive < distance_negative).item()\n",
    "            total += anchor.size(0)\n",
    "    accuracy = correct / total\n",
    "    print(accuracy,time.time()-start)"
   ]
  },
  {
   "cell_type": "code",
   "execution_count": 20,
   "id": "7161fbdf",
   "metadata": {},
   "outputs": [],
   "source": [
    "test_folder = \"./Datasets/TAMIZH LETTERS/test\"\n",
    "test_dataset = TripletDataset(test_folder, transform=transform)\n",
    "testloader = DataLoader(test_dataset, batch_size=32, shuffle=False)"
   ]
  },
  {
   "cell_type": "code",
   "execution_count": 21,
   "id": "8dea346c",
   "metadata": {},
   "outputs": [
    {
     "data": {
      "text/plain": [
       "2"
      ]
     },
     "execution_count": 21,
     "metadata": {},
     "output_type": "execute_result"
    }
   ],
   "source": [
    "len(testloader)"
   ]
  },
  {
   "cell_type": "markdown",
   "id": "7cd80590",
   "metadata": {},
   "source": [
    "# TESTING ACCURACY"
   ]
  },
  {
   "cell_type": "code",
   "execution_count": 28,
   "id": "33b1fec7",
   "metadata": {
    "scrolled": true
   },
   "outputs": [
    {
     "name": "stdout",
     "output_type": "stream",
     "text": [
      "0.85 2.3682732582092285\n"
     ]
    }
   ],
   "source": [
    "evaluate_model(model,testloader)"
   ]
  },
  {
   "cell_type": "markdown",
   "id": "ddad16de",
   "metadata": {},
   "source": [
    "# SAVE"
   ]
  },
  {
   "cell_type": "code",
   "execution_count": 74,
   "id": "bbef6b1f",
   "metadata": {},
   "outputs": [],
   "source": [
    "torch.save(model,\"model/tripletTAMIZH.pt\")"
   ]
  },
  {
   "cell_type": "code",
   "execution_count": 38,
   "id": "e8381998",
   "metadata": {},
   "outputs": [],
   "source": [
    "model_loaded = torch.load(\"model/tripletTAMIZH.pt\")"
   ]
  },
  {
   "cell_type": "markdown",
   "id": "14be0ee7",
   "metadata": {},
   "source": [
    "# EVALUATING WITH FAISS"
   ]
  },
  {
   "cell_type": "code",
   "execution_count": 41,
   "id": "8e29983b",
   "metadata": {},
   "outputs": [],
   "source": [
    "from torchvision.datasets import ImageFolder\n",
    "from torchvision.transforms import transforms\n",
    "from torch.utils.data import DataLoader\n",
    "\n",
    "train_folder = \"./Datasets/TAMIZH LETTERS/train/\"\n",
    "test_folder = \"./Datasets/TAMIZH LETTERS/test/\"\n",
    "\n",
    "# Create the ImageFolder datasets for train and test folders\n",
    "train_dataset = ImageFolder(train_folder, transform=transform)\n",
    "test_dataset = ImageFolder(test_folder, transform=transform)\n",
    "\n",
    "train_dataloader = DataLoader(train_dataset, shuffle=True)\n",
    "test_dataloader = DataLoader(test_dataset, shuffle=False)\n"
   ]
  },
  {
   "cell_type": "markdown",
   "id": "441da49d",
   "metadata": {},
   "source": [
    "# FAISS LIBRARY"
   ]
  },
  {
   "cell_type": "code",
   "execution_count": 24,
   "id": "70ac8a33",
   "metadata": {},
   "outputs": [],
   "source": [
    "import faiss"
   ]
  },
  {
   "cell_type": "code",
   "execution_count": 25,
   "id": "ad2c3417",
   "metadata": {},
   "outputs": [
    {
     "name": "stdout",
     "output_type": "stream",
     "text": [
     ]
    }
   ],
   "source": [
    "import pickle\n",
    "\n",
    "embs1 = None\n",
    "labels1 = []\n",
    "\n",
    "for idx, i in enumerate(train_dataloader):\n",
    "    print(idx)\n",
    "    I, L = i\n",
    "    labels1.append(L.item())\n",
    "    emb = model_loaded(I)  # Assuming `model_loaded(I)` returns a PyTorch tensor\n",
    "    emb = emb.detach()\n",
    "    if embs1 is None:\n",
    "        embs1 = emb\n",
    "    else:\n",
    "        embs1 = torch.cat((embs1, emb), dim=0)\n",
    "\n",
    "# Save the embedding vectors and labels\n",
    "data = {\n",
    "    'embs': embs1,\n",
    "    'labels': labels1\n",
    "}\n",
    "\n",
    "with open('embedding_data.pkl', 'wb') as f:\n",
    "    pickle.dump(data, f)\n"
   ]
  },
  {
   "cell_type": "code",
   "execution_count": 26,
   "id": "d0577691",
   "metadata": {},
   "outputs": [],
   "source": [
    "# Load the embedding vectors and labels\n",
    "with open('embedding_data.pkl', 'rb') as f:\n",
    "    data = pickle.load(f)\n",
    "\n",
    "embs1 = data['embs']\n",
    "labels1 = data['labels']\n"
   ]
  },
  {
   "cell_type": "code",
   "execution_count": 27,
   "id": "f1968af5",
   "metadata": {},
   "outputs": [],
   "source": [
    "embs2 = None\n",
    "labels2 = []\n",
    "for i in test_dataloader:\n",
    "    I, L = i\n",
    "    labels2.append(L)\n",
    "    emb = model_loaded(I)\n",
    "    if embs2 is None:\n",
    "        embs2 = emb\n",
    "    else:\n",
    "        embs2 = torch.cat((embs2, emb), dim=0)"
   ]
  },
  {
   "cell_type": "markdown",
   "id": "81f5e745",
   "metadata": {},
   "source": [
    "# DIFFERENT INDICES"
   ]
  },
  {
   "cell_type": "code",
   "execution_count": 28,
   "id": "db0a5329",
   "metadata": {},
   "outputs": [],
   "source": [
    "embs = embs1"
   ]
  },
  {
   "cell_type": "code",
   "execution_count": 29,
   "id": "394225f7",
   "metadata": {},
   "outputs": [],
   "source": [
    "index1 = faiss.IndexFlatL2(embs.shape[1])  # Assuming embs.shape[1] represents the dimensionality of the embeddings\n",
    "index1.add(embs)\n",
    "\n",
    "nlist = 100  # Number of cells/buckets\n",
    "quantizer = faiss.IndexFlatL2(embs.shape[1])  # Quantizer index (same as IndexFlatL2)\n",
    "index2 = faiss.IndexIVFFlat(quantizer, embs.shape[1], nlist)\n",
    "index2.train(embs)\n",
    "index2.add(embs)\n",
    "\n",
    "index3 = faiss.IndexHNSWFlat(embs.shape[1], 32)  # M = 32 for the HNSW index\n",
    "index3.add(embs)\n",
    "\n",
    "nbits = 8  # Number of bits for the LSH hash\n",
    "index4 = faiss.IndexLSH(embs.shape[1], nbits)\n",
    "index4.add(embs)\n"
   ]
  },
  {
   "cell_type": "markdown",
   "id": "d50cd1a6",
   "metadata": {},
   "source": [
    "# FAISS EVALUATION"
   ]
  },
  {
   "cell_type": "code",
   "execution_count": 30,
   "id": "e2e16c97",
   "metadata": {},
   "outputs": [],
   "source": [
    "def evaluatewithfaiss(embs,index):\n",
    "    TOTAL = len(embs)\n",
    "    CORRECT = 0\n",
    "    start = time.time()\n",
    "    for idx,emb in enumerate(embs):\n",
    "        label = index.search(emb.detach().reshape(1,-1),1)[1][0][0]\n",
    "        CORRECT += labels1[label]==labels2[idx]\n",
    "    return f'{(CORRECT/TOTAL*100).item()}',f'TIME = {time.time()-start} SECONDS'\n",
    "        "
   ]
  },
  {
   "cell_type": "code",
   "execution_count": null,
   "id": "f0a5a4ce",
   "metadata": {},
   "outputs": [],
   "source": [
    "print(f'IndexFlatL2 : {evaluatewithfaiss(embs2,index1)}')\n",
    "print(f'IndexIVFFlat : {evaluatewithfaiss(embs2,index2)}')\n",
    "print(f'IndexHNSWFlat : {evaluatewithfaiss(embs2,index3)}')\n",
    "print(f'IndexLSH : {evaluatewithfaiss(embs2,index4)}')"
   ]
  },
  {
   "cell_type": "markdown",
   "id": "a3381ce1",
   "metadata": {},
   "source": [
    "# SIMPLE OPENCV APPLICATION"
   ]
  },
  {
   "cell_type": "code",
   "execution_count": 33,
   "id": "794627e3",
   "metadata": {},
   "outputs": [],
   "source": [
    "import torch\n",
    "import torchvision.transforms as transforms\n",
    "import cv2\n",
    "from PIL import Image\n",
    "import numpy as np\n",
    "imgs = [\n",
    "    \"./Images/12.jpg\", \"./Images/1.jpg\",\n",
    "    \"./Images/3.jpg\", \"./Images/2.jpg\",\n",
    "    \"./Images/4.jpg\", \"./Images/5.jpg\",\n",
    "    \"./Images/7.jpg\",\"./Images/6.jpg\",\n",
    "    \"./Images/8.jpg\",\"./Images/9.jpg\",\n",
    "    \"./Images/11.jpg\",\"./Images/10.jpg\",\n",
    "]\n",
    "x = [np.array(Image.open(img)) for img in imgs]  # Open image without conversion\n",
    "y = [Image.open(img) for img in imgs]  # Open image without conversion\n",
    "\n",
    "transform = transforms.Compose([\n",
    "    transforms.Grayscale(),\n",
    "    transforms.Resize((224, 224)),\n",
    "    transforms.ToTensor()\n",
    "])\n"
   ]
  },
  {
   "cell_type": "code",
   "execution_count": 34,
   "id": "43d468e7",
   "metadata": {},
   "outputs": [],
   "source": [
    "labelsd = {'0':\"அ\",\n",
    "           '1':'ஆ',\n",
    "           '2':'இ',\n",
    "           '3':'ஈ',\n",
    "          '4':'உ',\n",
    "           '5':'ஊ',\n",
    "           '6':'எ',\n",
    "           '7':'ஏ',\n",
    "           '8':'ஐ',\n",
    "           '9':'ஒ',\n",
    "           '10':'ஓ',\n",
    "           '11':'ஔ'\n",
    "          }"
   ]
  },
  {
   "cell_type": "code",
   "execution_count": 37,
   "id": "5e149679",
   "metadata": {},
   "outputs": [],
   "source": [
    "th = 0\n",
    "while True:\n",
    "    frame = cv2.resize(x[th], (900, 900))\n",
    "    frame = cv2.cvtColor(frame, cv2.COLOR_RGB2BGR)  # Convert RGB to BGR for OpenCV display\n",
    "    rect_height = 100\n",
    "    cv2.rectangle(frame, (0, 0), (frame.shape[1], rect_height), (0, 0, 0), -1)\n",
    "    image_tensor = transform(y[th])\n",
    "    image_tensor = image_tensor.unsqueeze(0)\n",
    "    emb = model_loaded(image_tensor)\n",
    "    label = index2.search(emb.detach().reshape(1,-1),1)[1][0][0]\n",
    "    value = labelsd[str(labels1[label])]\n",
    "    text = f\"TYPE : {labels1[label]} {value}\"\n",
    "    text_size, _ = cv2.getTextSize(text, cv2.FONT_HERSHEY_SIMPLEX, 2, 5)\n",
    "    text_x = 10\n",
    "    text_y = int(rect_height / 2) + int(text_size[1] / 2)\n",
    "    cv2.putText(frame, text, (text_x, text_y), cv2.FONT_HERSHEY_SIMPLEX, 2, (0, 255, 0), 5)\n",
    "    \n",
    "    cv2.imshow('TAMIZH LETTERS', frame)\n",
    "    k = cv2.waitKey()\n",
    "    if k == 27:\n",
    "        break\n",
    "    elif k == 110 and th < 15:\n",
    "        if th + 1 == len(imgs):\n",
    "            th = 0\n",
    "        else:\n",
    "            th += 1\n",
    "            \n",
    "    elif k == 112 and th > 0:\n",
    "        if th - 1 != -1:\n",
    "            th -= 1\n",
    "\n",
    "cv2.destroyAllWindows()\n",
    "\n"
   ]
  }
 ],
 "metadata": {
  "kernelspec": {
   "display_name": "Python 3",
   "language": "python",
   "name": "python3"
  },
  "language_info": {
   "codemirror_mode": {
    "name": "ipython",
    "version": 3
   },
   "file_extension": ".py",
   "mimetype": "text/x-python",
   "name": "python",
   "nbconvert_exporter": "python",
   "pygments_lexer": "ipython3",
   "version": "3.8.8"
  }
 },
 "nbformat": 4,
 "nbformat_minor": 5
}
